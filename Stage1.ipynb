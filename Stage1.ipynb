{
 "cells": [
  {
   "cell_type": "code",
   "execution_count": 2,
   "id": "ca05bdd5",
   "metadata": {},
   "outputs": [],
   "source": [
    "import pandas as pd\n",
    "import numpy as np\n",
    "import os\n",
    "import re\n",
    "import seaborn as sns\n",
    "import matplotlib.pyplot as plt"
   ]
  },
  {
   "cell_type": "code",
   "execution_count": 5,
   "id": "6b0c7da3",
   "metadata": {},
   "outputs": [],
   "source": [
    "import os\n",
    "os.chdir('/Users/biswanathpatro/Study/machine learning/Proj Ramin/Facial Expression Analysis/Grammatical_Facial_Expressions')"
   ]
  },
  {
   "cell_type": "code",
   "execution_count": 6,
   "id": "84b0beb4",
   "metadata": {},
   "outputs": [],
   "source": [
    "#os.chdir(str(os.getcwd())+'\\\\data')"
   ]
  },
  {
   "cell_type": "code",
   "execution_count": 19,
   "id": "cf50b133",
   "metadata": {},
   "outputs": [],
   "source": [
    "# Treating all rows with 1st per file\n",
    "files_list = ['yn_question',\n",
    " 'wh_question', # me\n",
    " 'doubt_question', # me\n",
    " 'negative', # me\n",
    " 'conditional',\n",
    " 'relative',\n",
    " 'affirmative',\n",
    " 'topics',\n",
    " 'emphasis']"
   ]
  },
  {
   "cell_type": "code",
   "execution_count": 20,
   "id": "819675ea",
   "metadata": {},
   "outputs": [
    {
     "data": {
      "text/plain": [
       "['yn_question',\n",
       " 'wh_question',\n",
       " 'doubt_question',\n",
       " 'negative',\n",
       " 'conditional',\n",
       " 'relative',\n",
       " 'affirmative',\n",
       " 'topics',\n",
       " 'emphasis']"
      ]
     },
     "execution_count": 20,
     "metadata": {},
     "output_type": "execute_result"
    }
   ],
   "source": [
    "files_list"
   ]
  },
  {
   "cell_type": "code",
   "execution_count": 21,
   "id": "2c6aaa40",
   "metadata": {},
   "outputs": [],
   "source": [
    "# Only for 0's\n",
    "def load_files():\n",
    "    subjects = ['a','b']\n",
    "    \n",
    "    for filename in files_list:\n",
    "        for subject in subjects:\n",
    "            # Read data from each file\n",
    "            filename_datapoint = subject+'_'+filename+'_'+'datapoints.txt'\n",
    "            df = pd.read_csv(filename_datapoint,sep=' ')\n",
    "            \n",
    "            #Reading target file\n",
    "            filename_target = subject+'_'+filename+'_'+'targets.txt'\n",
    "            \n",
    "            df = pd.concat([df,pd.read_csv(filename_target,names =['Target'])],axis=1)\n",
    "\n",
    "            df['Facial_Expression'] = filename\n",
    "            yield df"
   ]
  },
  {
   "cell_type": "code",
   "execution_count": 22,
   "id": "f4288789",
   "metadata": {},
   "outputs": [],
   "source": [
    "def read_data(data_files):\n",
    "    \n",
    "    # Generate a list of file names\n",
    "    data = [x for x in data_files]\n",
    "    \n",
    "    # Concatenate data frames\n",
    "    final_df = pd.concat(load_files(data))\n",
    "    \n",
    "    return final_df"
   ]
  },
  {
   "cell_type": "code",
   "execution_count": 24,
   "id": "77dd8390",
   "metadata": {},
   "outputs": [
    {
     "ename": "NameError",
     "evalue": "name 'files_set' is not defined",
     "output_type": "error",
     "traceback": [
      "\u001b[0;31m---------------------------------------------------------------------------\u001b[0m",
      "\u001b[0;31mNameError\u001b[0m                                 Traceback (most recent call last)",
      "Input \u001b[0;32mIn [24]\u001b[0m, in \u001b[0;36m<module>\u001b[0;34m\u001b[0m\n\u001b[0;32m----> 1\u001b[0m df_0 \u001b[38;5;241m=\u001b[39m read_data(\u001b[43mfiles_set\u001b[49m\u001b[38;5;241m.\u001b[39mtoList())\n",
      "\u001b[0;31mNameError\u001b[0m: name 'files_set' is not defined"
     ]
    }
   ],
   "source": [
    "df_0 = read_data(files_set)"
   ]
  },
  {
   "cell_type": "code",
   "execution_count": 17,
   "id": "e8b0893c",
   "metadata": {},
   "outputs": [
    {
     "ename": "TypeError",
     "evalue": "df_returner() missing 1 required positional argument: 'target'",
     "output_type": "error",
     "traceback": [
      "\u001b[0;31m---------------------------------------------------------------------------\u001b[0m",
      "\u001b[0;31mTypeError\u001b[0m                                 Traceback (most recent call last)",
      "Input \u001b[0;32mIn [17]\u001b[0m, in \u001b[0;36m<module>\u001b[0;34m\u001b[0m\n\u001b[1;32m     56\u001b[0m df_1 \u001b[38;5;241m=\u001b[39m pd\u001b[38;5;241m.\u001b[39mDataFrame()\n\u001b[1;32m     58\u001b[0m \u001b[38;5;28;01mfor\u001b[39;00m i \u001b[38;5;129;01min\u001b[39;00m \u001b[38;5;28mrange\u001b[39m(\u001b[38;5;241m0\u001b[39m,\u001b[38;5;28mlen\u001b[39m(files_list)):\n\u001b[0;32m---> 59\u001b[0m     tdf \u001b[38;5;241m=\u001b[39m \u001b[43mdf_returner\u001b[49m\u001b[43m(\u001b[49m\u001b[43mi\u001b[49m\u001b[43m)\u001b[49m\n\u001b[1;32m     60\u001b[0m     df_0 \u001b[38;5;241m=\u001b[39m pd\u001b[38;5;241m.\u001b[39mconcat([df_0,tdf[tdf[\u001b[38;5;124m'\u001b[39m\u001b[38;5;124mTarget\u001b[39m\u001b[38;5;124m'\u001b[39m]\u001b[38;5;241m==\u001b[39m\u001b[38;5;241m0\u001b[39m]],axis\u001b[38;5;241m=\u001b[39m\u001b[38;5;241m0\u001b[39m)\n\u001b[1;32m     61\u001b[0m     tdf\u001b[38;5;241m.\u001b[39mdrop(columns\u001b[38;5;241m=\u001b[39m\u001b[38;5;124m'\u001b[39m\u001b[38;5;124mTarget\u001b[39m\u001b[38;5;124m'\u001b[39m,inplace\u001b[38;5;241m=\u001b[39m\u001b[38;5;28;01mTrue\u001b[39;00m)\n",
      "\u001b[0;31mTypeError\u001b[0m: df_returner() missing 1 required positional argument: 'target'"
     ]
    }
   ],
   "source": [
    "def df_returner(i,target):\n",
    "    filename_datapoint1 = 'a'+'_'+files_list[i]+'_'+'datapoints.txt'\n",
    "\n",
    "    #Reading target file\n",
    "    filename_target1 = 'a'+'_'+files_list[i]+'_'+'targets.txt'\n",
    "\n",
    "    subject = 'b'\n",
    "    filename_datapoint2 = 'b'+'_'+files_list[i]+'_'+'datapoints.txt'\n",
    "\n",
    "    #Reading target file\n",
    "    filename_target2 = 'b'+'_'+files_list[i]+'_'+'targets.txt'\n",
    "\n",
    "    df1 = pd.concat([pd.read_csv(filename_datapoint1,sep=' ')\n",
    "                    ,pd.read_csv(filename_datapoint2,sep=' ')],axis=0)\n",
    "    df2 = pd.concat([pd.read_csv(filename_target1,names =['Target'])\n",
    "                    ,pd.read_csv(filename_target2,names =['Target'])],axis=0)\n",
    "\n",
    "    df = pd.concat([df1,df2],axis=1)\n",
    "    df.drop(columns='0.0',inplace=True)\n",
    "    return df\n",
    "\n",
    "def outlier_treatment(df_ot):\n",
    "    lcn = df_ot.columns.tolist()\n",
    "    \n",
    "    for i in range(len(lcn)):\n",
    "        ul= df_ot[lcn[i]].quantile(0.75)+(1.5*(df_ot[lcn[i]].quantile(0.75)-df_ot[lcn[i]].quantile(0.25)))\n",
    "        ll= df_ot[lcn[i]].quantile(0.25)-(1.5*(df_ot[lcn[i]].quantile(0.75)-df_ot[lcn[i]].quantile(0.25)))\n",
    "        m = df_ot[lcn[i]].mean()\n",
    "        df_ot.loc[df_ot[lcn[i]]<ll, lcn[i]] = m\n",
    "        df_ot.loc[df_ot[lcn[i]]>ul, lcn[i]] = m\n",
    "        \n",
    "    return df_ot\n",
    "    \n",
    "    \n",
    "def medianTreatment(df_t,file_name):\n",
    "    myseries1 = df_t.quantile(0.25) == 0\n",
    "    list1 = myseries1[myseries1].index.tolist()\n",
    "\n",
    "    myseries2 = df_t.quantile(0.50) == 0\n",
    "    list2 = myseries2[myseries2].index.tolist()\n",
    "    \n",
    "    for i in range(0,len(list1)):\n",
    "        str1 = list1[i]\n",
    "        df_t[str1] = df_t[str1].astype(int)\n",
    "        df_t.loc[df_t[str1]==0,str1] = df_t[str1].median()\n",
    "        \n",
    "    for i in range(0,len(list2)):\n",
    "        str2 = list2[i]                                  \n",
    "        df_t.loc[df_t[str2]==0,str2] = df_t[str2].mean()*2\n",
    "        \n",
    "    df_t = outlier_treatment(df_t)\n",
    "    df_t['GFE'] = file_name\n",
    "    return df_t\n",
    "\n",
    "df_0 = pd.DataFrame()\n",
    "df_1 = pd.DataFrame()\n",
    "\n",
    "for i in range(0,len(files_list)):\n",
    "    tdf = df_returner(i)\n",
    "    df_0 = pd.concat([df_0,tdf[tdf['Target']==0]],axis=0)\n",
    "    tdf.drop(columns='Target',inplace=True)\n",
    "    df_1 = pd.concat([df_1,medianTreatment(tdf,files_list[i])],axis=0)\n",
    "    \n",
    "# myseries[myseries]"
   ]
  },
  {
   "cell_type": "code",
   "execution_count": 18,
   "id": "27190540",
   "metadata": {},
   "outputs": [
    {
     "data": {
      "text/html": [
       "<div>\n",
       "<style scoped>\n",
       "    .dataframe tbody tr th:only-of-type {\n",
       "        vertical-align: middle;\n",
       "    }\n",
       "\n",
       "    .dataframe tbody tr th {\n",
       "        vertical-align: top;\n",
       "    }\n",
       "\n",
       "    .dataframe thead th {\n",
       "        text-align: right;\n",
       "    }\n",
       "</style>\n",
       "<table border=\"1\" class=\"dataframe\">\n",
       "  <thead>\n",
       "    <tr style=\"text-align: right;\">\n",
       "      <th></th>\n",
       "    </tr>\n",
       "  </thead>\n",
       "  <tbody>\n",
       "  </tbody>\n",
       "</table>\n",
       "</div>"
      ],
      "text/plain": [
       "Empty DataFrame\n",
       "Columns: []\n",
       "Index: []"
      ]
     },
     "execution_count": 18,
     "metadata": {},
     "output_type": "execute_result"
    }
   ],
   "source": [
    "df_0"
   ]
  },
  {
   "cell_type": "code",
   "execution_count": null,
   "id": "0ee2a313",
   "metadata": {},
   "outputs": [],
   "source": []
  },
  {
   "cell_type": "code",
   "execution_count": null,
   "id": "3d88c07e",
   "metadata": {},
   "outputs": [],
   "source": []
  }
 ],
 "metadata": {
  "kernelspec": {
   "display_name": "Python 3 (ipykernel)",
   "language": "python",
   "name": "python3"
  },
  "language_info": {
   "codemirror_mode": {
    "name": "ipython",
    "version": 3
   },
   "file_extension": ".py",
   "mimetype": "text/x-python",
   "name": "python",
   "nbconvert_exporter": "python",
   "pygments_lexer": "ipython3",
   "version": "3.9.7"
  }
 },
 "nbformat": 4,
 "nbformat_minor": 5
}
